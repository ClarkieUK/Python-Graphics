{
 "cells": [
  {
   "cell_type": "code",
   "execution_count": 18,
   "metadata": {},
   "outputs": [],
   "source": [
    "import matplotlib.pyplot as plt\n",
    "%matplotlib tk \n",
    "import numpy as np\n",
    "from scipy.constants import au\n",
    "from scipy.optimize import minimize\n",
    "from poliastro.bodies import Sun\n",
    "from poliastro.core.iod import izzo\n",
    "from poliastro.twobody import Orbit\n",
    "from astropy import units as u\n",
    "from astropy.time import Time\n",
    "from datetime import datetime"
   ]
  },
  {
   "cell_type": "code",
   "execution_count": 19,
   "metadata": {},
   "outputs": [],
   "source": [
    "import numpy as np\n",
    "import matplotlib.pyplot as plt\n",
    "from datetime import datetime\n",
    "import matplotlib.dates as mdates"
   ]
  },
  {
   "cell_type": "code",
   "execution_count": 20,
   "metadata": {},
   "outputs": [],
   "source": [
    "targets = ['SUN', 'EARTH', 'MARS', 'SATELLITE']"
   ]
  },
  {
   "cell_type": "markdown",
   "metadata": {},
   "source": [
    "fig = plt.figure()\n",
    "ax = fig.add_subplot(projection='3d')\n",
    "\n",
    "ax.set_xlabel('X (AU)')\n",
    "ax.set_ylabel('Y (AU)')\n",
    "ax.set_zlabel('Z (AU)')\n",
    "ax.set_title('Orbit in AU Space')\n",
    "\n",
    "all_px, all_py, all_pz = [], [], []\n",
    "\n",
    "for target in targets:\n",
    "    try :\n",
    "        data = np.genfromtxt(f'simulation_results/{target}.csv', delimiter=',', skip_header=1)\n",
    "    except :\n",
    "        data = np.genfromtxt(f'traces/{target}.csv', delimiter=',', skip_header=1)\n",
    "        \n",
    "    px, py, pz = data[:, 1], data[:, 2], data[:, 3]\n",
    "    \n",
    "    all_px.extend(px)\n",
    "    all_py.extend(py)\n",
    "    all_pz.extend(pz)\n",
    "    \n",
    "    ax.plot(px, py, pz, label=target)  # Add label for better visualization\n",
    "\n",
    "# Compute overall range\n",
    "all_px, all_py, all_pz = np.array(all_px), np.array(all_py), np.array(all_pz)\n",
    "\n",
    "max_range = max(all_px.ptp(), all_py.ptp(), all_pz.ptp()) / 2.0\n",
    "mid_x = (all_px.max() + all_px.min()) / 2.0\n",
    "mid_y = (all_py.max() + all_py.min()) / 2.0\n",
    "mid_z = (all_pz.max() + all_pz.min()) / 2.0\n",
    "\n",
    "# Set the global limits\n",
    "ax.set_xlim(mid_x - max_range, mid_x + max_range)\n",
    "ax.set_ylim(mid_y - max_range, mid_y + max_range)\n",
    "ax.set_zlim(mid_z - max_range, mid_z + max_range)\n",
    "\n",
    "ax.legend()  # Show labels\n",
    "\n",
    "#plt.show()\n",
    "print('done')"
   ]
  },
  {
   "cell_type": "markdown",
   "metadata": {},
   "source": [
    "3"
   ]
  },
  {
   "cell_type": "code",
   "execution_count": 21,
   "metadata": {},
   "outputs": [],
   "source": [
    "def load_data(host : str, target : str) :\n",
    "    \n",
    "    try:\n",
    "        \n",
    "        dates = np.genfromtxt(f'simulation_results\\{host}.csv',delimiter=',',usecols=[0],skip_header=True,dtype=str) \n",
    "\n",
    "        host_positions = np.genfromtxt(f'simulation_results\\{host}.csv',delimiter=',',usecols=[1,2,3],skip_header=True) \n",
    "        host_velocities = np.genfromtxt(f'simulation_results\\{host}.csv',delimiter=',',usecols=[4,5,6],skip_header=True)\n",
    "\n",
    "        target_positions = np.genfromtxt(f'simulation_results\\{target}.csv',delimiter=',',usecols=[1,2,3],skip_header=True) \n",
    "        target_velocities = np.genfromtxt(f'simulation_results\\{target}.csv',delimiter=',',usecols=[4,5,6],skip_header=True)  \n",
    "    \n",
    "    except : \n",
    "        \n",
    "        dates = np.genfromtxt(f'traces\\{host}.csv',delimiter=',',usecols=[0],skip_header=True,dtype=str) \n",
    "\n",
    "        host_positions = np.genfromtxt(f'traces\\{host}.csv',delimiter=',',usecols=[1,2,3],skip_header=True) \n",
    "        host_velocities = np.genfromtxt(f'traces\\{host}.csv',delimiter=',',usecols=[4,5,6],skip_header=True)\n",
    "\n",
    "        target_positions = np.genfromtxt(f'traces\\{target}.csv',delimiter=',',usecols=[1,2,3],skip_header=True) \n",
    "        target_velocities = np.genfromtxt(f'traces\\{target}.csv',delimiter=',',usecols=[4,5,6],skip_header=True)  \n",
    "        \n",
    "    return dates, host_positions, host_velocities, target_positions, target_velocities"
   ]
  },
  {
   "cell_type": "code",
   "execution_count": 26,
   "metadata": {},
   "outputs": [],
   "source": [
    "dates, host_positions, host_velocities, target_positions, target_velocities = load_data('EARTH_TRACE','MARS_TRACE')\n",
    "elements = dates.shape[0] \n",
    "mission_durations = np.arange(20,140,1)\n"
   ]
  },
  {
   "cell_type": "code",
   "execution_count": null,
   "metadata": {},
   "outputs": [],
   "source": [
    "for i in range(0,elements-1000,100) :\n",
    "    for j in range()\n",
    "    v_i,v_f = izzo(Sun.k,host_positions[i],target_positions[i+1000],50*24*60*60,0,True,True,5,1e-3)"
   ]
  }
 ],
 "metadata": {
  "kernelspec": {
   "display_name": "Python 3",
   "language": "python",
   "name": "python3"
  },
  "language_info": {
   "codemirror_mode": {
    "name": "ipython",
    "version": 3
   },
   "file_extension": ".py",
   "mimetype": "text/x-python",
   "name": "python",
   "nbconvert_exporter": "python",
   "pygments_lexer": "ipython3",
   "version": "3.10.4"
  }
 },
 "nbformat": 4,
 "nbformat_minor": 2
}
