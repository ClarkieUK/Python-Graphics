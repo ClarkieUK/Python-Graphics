{
 "cells": [
  {
   "cell_type": "code",
   "execution_count": 1,
   "metadata": {},
   "outputs": [],
   "source": [
    "import matplotlib.pyplot as plt\n",
    "from matplotlib.pyplot import ion\n",
    "import matplotlib.dates as mdates\n",
    "%matplotlib tk\n",
    "import numpy as np\n",
    "from poliastro.bodies import Sun\n",
    "from poliastro.core.iod import izzo\n",
    "from datetime import datetime\n",
    "from tqdm import tqdm\n",
    "import numpy as np"
   ]
  },
  {
   "cell_type": "code",
   "execution_count": 2,
   "metadata": {},
   "outputs": [],
   "source": [
    "targets = ['SUN', 'EARTH', 'MARS', 'SATELLITE']"
   ]
  },
  {
   "cell_type": "markdown",
   "metadata": {},
   "source": [
    "fig = plt.figure()\n",
    "ax = fig.add_subplot(projection='3d')\n",
    "\n",
    "ax.set_xlabel('X (AU)')\n",
    "ax.set_ylabel('Y (AU)')\n",
    "ax.set_zlabel('Z (AU)')\n",
    "ax.set_title('Orbit in AU Space')\n",
    "\n",
    "all_px, all_py, all_pz = [], [], []\n",
    "\n",
    "for target in targets:\n",
    "    try :\n",
    "        data = np.genfromtxt(f'simulation_results/{target}.csv', delimiter=',', skip_header=1)\n",
    "    except :\n",
    "        data = np.genfromtxt(f'traces/{target}.csv', delimiter=',', skip_header=1)\n",
    "        \n",
    "    px, py, pz = data[:, 1], data[:, 2], data[:, 3]\n",
    "    \n",
    "    all_px.extend(px)\n",
    "    all_py.extend(py)\n",
    "    all_pz.extend(pz)\n",
    "    \n",
    "    ax.plot(px, py, pz, label=target)  # Add label for better visualization\n",
    "\n",
    "# Compute overall range\n",
    "all_px, all_py, all_pz = np.array(all_px), np.array(all_py), np.array(all_pz)\n",
    "\n",
    "max_range = max(all_px.ptp(), all_py.ptp(), all_pz.ptp()) / 2.0\n",
    "mid_x = (all_px.max() + all_px.min()) / 2.0\n",
    "mid_y = (all_py.max() + all_py.min()) / 2.0\n",
    "mid_z = (all_pz.max() + all_pz.min()) / 2.0\n",
    "\n",
    "# Set the global limits\n",
    "ax.set_xlim(mid_x - max_range, mid_x + max_range)\n",
    "ax.set_ylim(mid_y - max_range, mid_y + max_range)\n",
    "ax.set_zlim(mid_z - max_range, mid_z + max_range)\n",
    "\n",
    "ax.legend()  # Show labels\n",
    "\n",
    "#plt.show()\n",
    "print('done')"
   ]
  },
  {
   "cell_type": "markdown",
   "metadata": {},
   "source": [
    "3"
   ]
  },
  {
   "cell_type": "code",
   "execution_count": 3,
   "metadata": {},
   "outputs": [],
   "source": [
    "def load_data(host : str, target : str) :\n",
    "    \n",
    "    try :\n",
    "        dates = np.genfromtxt(f'simulation_results\\{host}.csv',delimiter=',',usecols=[0],skip_header=True,dtype=str) \n",
    "\n",
    "        host_positions = np.genfromtxt(f'simulation_results\\{host}.csv',delimiter=',',usecols=[1,2,3],skip_header=True) \n",
    "        host_velocities = np.genfromtxt(f'simulation_results\\{host}.csv',delimiter=',',usecols=[4,5,6],skip_header=True)\n",
    "\n",
    "        target_positions = np.genfromtxt(f'simulation_results\\{target}.csv',delimiter=',',usecols=[1,2,3],skip_header=True) \n",
    "        target_velocities = np.genfromtxt(f'simulation_results\\{target}.csv',delimiter=',',usecols=[4,5,6],skip_header=True)  \n",
    "    \n",
    "    except : \n",
    "        dates = np.genfromtxt(f'traces\\{host}.csv',delimiter=',',usecols=[0],skip_header=True,dtype=str) \n",
    "\n",
    "        host_positions = np.genfromtxt(f'traces\\{host}.csv',delimiter=',',usecols=[1,2,3],skip_header=True) \n",
    "        host_velocities = np.genfromtxt(f'traces\\{host}.csv',delimiter=',',usecols=[4,5,6],skip_header=True)\n",
    "\n",
    "        target_positions = np.genfromtxt(f'traces\\{target}.csv',delimiter=',',usecols=[1,2,3],skip_header=True) \n",
    "        target_velocities = np.genfromtxt(f'traces\\{target}.csv',delimiter=',',usecols=[4,5,6],skip_header=True)  \n",
    "        \n",
    "    return dates, host_positions, host_velocities, target_positions, target_velocities"
   ]
  },
  {
   "cell_type": "code",
   "execution_count": 4,
   "metadata": {},
   "outputs": [],
   "source": [
    "dates, host_positions, host_velocities, target_positions, target_velocities = load_data('EARTH_TRACE','MARS_TRACE')\n",
    "dates = [datetime.strptime(date, \"%A %B %d %Y %H:%M:%S\").timestamp() for date in dates]\n",
    "dates = np.array(dates)\n",
    "t0 = dates[0]\n",
    "dates = dates - t0\n",
    "\n",
    "elements = dates.shape[0] \n",
    "resolution = 0.0001\n",
    "interval = elements / (elements * resolution)\n",
    "\n",
    "launch_from  = (0) *24*60*60\n",
    "launch_until = (5*365) *24*60*60\n",
    "launch_times = np.extract(dates >= launch_from,dates)\n",
    "launch_times = np.extract(dates <= launch_until,launch_times)\n",
    "\n",
    "mask = np.isin(dates, launch_times)\n",
    "launch_positions = host_positions[mask]\n",
    "launch_velocities = host_velocities[mask]\n",
    "\n",
    "arrive_after  = 100 *24*60*60 \n",
    "arrive_before = (900) *24*60*60\n",
    "\n",
    "lower_bound = min(launch_times) + arrive_after\n",
    "upper_bound = max(launch_times) + arrive_before \n",
    "\n",
    "arrival_times = np.extract(dates >= lower_bound,dates)\n",
    "arrival_times = np.extract(dates <= upper_bound,arrival_times)\n",
    "\n",
    "mask = np.isin(dates, arrival_times)\n",
    "arrival_positions = target_positions[mask]\n",
    "arrival_velocities = target_velocities[mask]\n",
    "\n",
    "launch_times += t0\n",
    "arrival_times += t0"
   ]
  },
  {
   "cell_type": "code",
   "execution_count": 5,
   "metadata": {},
   "outputs": [
    {
     "name": "stdout",
     "output_type": "stream",
     "text": [
      "fuck off retard\n"
     ]
    }
   ],
   "source": [
    "ax = plt.figure().add_subplot(projection='3d')\n",
    "ax.plot(host_positions[:,0],host_positions[:,1],host_positions[:,2],color='steelblue')\n",
    "ax.plot(launch_positions[:,0],launch_positions[:,1],launch_positions[:,2],color='red')\n",
    "\n",
    "ax.plot(target_positions[:,0],target_positions[:,1],target_positions[:,2],color='steelblue')\n",
    "ax.plot(arrival_positions[:,0],arrival_positions[:,1],arrival_positions[:,2],color='red')\n",
    "\n",
    "a = np.argmin(launch_times)\n",
    "b = np.argmax(launch_times)\n",
    "ax.scatter(launch_positions[a][0],launch_positions[a][1],launch_positions[a][2],color='steelblue')\n",
    "ax.scatter(launch_positions[b][0],launch_positions[b][1],launch_positions[b][2],color='red')\n",
    "\n",
    "print('fuck off retard')"
   ]
  },
  {
   "cell_type": "code",
   "execution_count": 6,
   "metadata": {},
   "outputs": [
    {
     "name": "stderr",
     "output_type": "stream",
     "text": [
      "Processing:   0%|          | 0/2493288 [00:00<?, ?iter/s]"
     ]
    },
    {
     "name": "stderr",
     "output_type": "stream",
     "text": [
      "Processing:  81%|████████▏ | 2026524/2493288 [00:34<00:07, 59521.52iter/s] \n"
     ]
    }
   ],
   "source": [
    "final = []\n",
    "\n",
    "step = 100  # Change step size to control skipping rate\n",
    "total_iterations = len(launch_positions[::step]) * len(target_positions[::step])\n",
    "\n",
    "with tqdm(total=total_iterations, desc=\"Processing\", unit=\"iter\") as pbar:\n",
    "    for lpos, lt, lv in zip(launch_positions[::step], launch_times[::step], launch_velocities[::step]):\n",
    "        for tpos, tt, tv in zip(arrival_positions[::step], arrival_times[::step], arrival_velocities[::step]):\n",
    "            \n",
    "            tof = tt - lt\n",
    "            \n",
    "            try:\n",
    "                v_i, _ = izzo(Sun.k, lpos, tpos, tof, 0, True, True, 150, 1e-8)\n",
    "                if np.linalg.norm(v_i - lv)/1000 <= 7.81 : \n",
    "                    final.append([lt, tt, np.linalg.norm(v_i - lv)/1000])\n",
    "                else : \n",
    "                    final.append([lt, tt, np.nan])\n",
    "                    \n",
    "            except:\n",
    "                v_i = lv\n",
    "                final.append([lt, tt, np.nan])\n",
    "\n",
    "            pbar.update(1)  # Update progress bar for each iteration\n",
    "\n",
    "final = np.array(final)"
   ]
  },
  {
   "cell_type": "code",
   "execution_count": 7,
   "metadata": {},
   "outputs": [
    {
     "data": {
      "text/plain": [
       "Text(0, 0.5, 'Arrival Date')"
      ]
     },
     "execution_count": 7,
     "metadata": {},
     "output_type": "execute_result"
    }
   ],
   "source": [
    "lt_vals = np.unique(final[:, 0])  # Unique launch times\n",
    "tt_vals = np.unique(final[:, 1])  # Unique arrival times\n",
    "\n",
    "lt_vals = [datetime.fromtimestamp(t) for t in lt_vals]\n",
    "tt_vals = [datetime.fromtimestamp(t) for t in tt_vals]\n",
    "\n",
    "v_grid = np.array(final[:, 2].reshape(len(lt_vals), len(tt_vals))).astype(np.float64)  \n",
    "\n",
    "plt.figure(figsize=(8,6))\n",
    "c = plt.contourf(lt_vals, tt_vals, (v_grid.T),levels=15)  \n",
    "plt.colorbar(c,label=r'Required $\\Delta$V Impulse Burn [km/s]')  \n",
    "\n",
    "launch_start_date = datetime(2026, 8, 1) \n",
    "launch_end_date = datetime(2027, 2, 28)    \n",
    "\n",
    "arrival_start_date = datetime(2026, 7, 1) \n",
    "arrival_end_date = datetime(2028, 5, 1)    \n",
    "\n",
    "plt.xlim(launch_start_date, launch_end_date) \n",
    "plt.ylim(arrival_start_date, arrival_end_date)\n",
    "\n",
    "plt.gca().xaxis.set_minor_locator(mdates.DayLocator(interval=6))  # Subticks every 5 days on x-axis\n",
    "plt.gca().yaxis.set_minor_locator(mdates.DayLocator(interval=8))  # Subticks every 5 days on y-axis\n",
    "\n",
    "plt.gca().tick_params(axis='x', which='minor', length=2, color='gray')  # Customize minor x-axis ticks\n",
    "plt.gca().tick_params(axis='y', which='minor', length=2, color='gray')  # Customize minor y-axis ticks\n",
    "\n",
    "plt.gca().yaxis.set_major_formatter(mdates.DateFormatter('%Y-%m'))  # Format as 'Jan 2025'\n",
    "plt.gca().yaxis.set_major_locator(mdates.MonthLocator(interval=5))  # Show every month\n",
    "plt.yticks(fontsize=7, rotation=45)  # Rotate labels for better visibility\n",
    "\n",
    "plt.gca().xaxis.set_major_formatter(mdates.DateFormatter('%Y-%m'))  # Format as 'Jan 2025'\n",
    "plt.gca().xaxis.set_major_locator(mdates.MonthLocator(interval=1))  # Show every month\n",
    "plt.xticks(fontsize=7, rotation=45)  # Rotate labels for better visibility\n",
    "\n",
    "plt.xlabel('Launch Date')\n",
    "plt.ylabel('Arrival Date')"
   ]
  }
 ],
 "metadata": {
  "kernelspec": {
   "display_name": "Python 3",
   "language": "python",
   "name": "python3"
  },
  "language_info": {
   "codemirror_mode": {
    "name": "ipython",
    "version": 3
   },
   "file_extension": ".py",
   "mimetype": "text/x-python",
   "name": "python",
   "nbconvert_exporter": "python",
   "pygments_lexer": "ipython3",
   "version": "3.10.7"
  }
 },
 "nbformat": 4,
 "nbformat_minor": 2
}
