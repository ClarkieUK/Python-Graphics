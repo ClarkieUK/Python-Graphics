{
 "cells": [
  {
   "cell_type": "code",
   "execution_count": 1,
   "metadata": {},
   "outputs": [],
   "source": [
    "import matplotlib.pyplot as plt\n",
    "from matplotlib.pyplot import ion\n",
    "%matplotlib tk\n",
    "import numpy as np\n",
    "from poliastro.bodies import Sun\n",
    "from poliastro.core.iod import izzo\n",
    "from datetime import datetime\n",
    "from tqdm import tqdm\n",
    "import numpy as np"
   ]
  },
  {
   "cell_type": "code",
   "execution_count": 2,
   "metadata": {},
   "outputs": [],
   "source": [
    "targets = ['SUN', 'EARTH', 'MARS', 'SATELLITE']"
   ]
  },
  {
   "cell_type": "markdown",
   "metadata": {},
   "source": [
    "fig = plt.figure()\n",
    "ax = fig.add_subplot(projection='3d')\n",
    "\n",
    "ax.set_xlabel('X (AU)')\n",
    "ax.set_ylabel('Y (AU)')\n",
    "ax.set_zlabel('Z (AU)')\n",
    "ax.set_title('Orbit in AU Space')\n",
    "\n",
    "all_px, all_py, all_pz = [], [], []\n",
    "\n",
    "for target in targets:\n",
    "    try :\n",
    "        data = np.genfromtxt(f'simulation_results/{target}.csv', delimiter=',', skip_header=1)\n",
    "    except :\n",
    "        data = np.genfromtxt(f'traces/{target}.csv', delimiter=',', skip_header=1)\n",
    "        \n",
    "    px, py, pz = data[:, 1], data[:, 2], data[:, 3]\n",
    "    \n",
    "    all_px.extend(px)\n",
    "    all_py.extend(py)\n",
    "    all_pz.extend(pz)\n",
    "    \n",
    "    ax.plot(px, py, pz, label=target)  # Add label for better visualization\n",
    "\n",
    "# Compute overall range\n",
    "all_px, all_py, all_pz = np.array(all_px), np.array(all_py), np.array(all_pz)\n",
    "\n",
    "max_range = max(all_px.ptp(), all_py.ptp(), all_pz.ptp()) / 2.0\n",
    "mid_x = (all_px.max() + all_px.min()) / 2.0\n",
    "mid_y = (all_py.max() + all_py.min()) / 2.0\n",
    "mid_z = (all_pz.max() + all_pz.min()) / 2.0\n",
    "\n",
    "# Set the global limits\n",
    "ax.set_xlim(mid_x - max_range, mid_x + max_range)\n",
    "ax.set_ylim(mid_y - max_range, mid_y + max_range)\n",
    "ax.set_zlim(mid_z - max_range, mid_z + max_range)\n",
    "\n",
    "ax.legend()  # Show labels\n",
    "\n",
    "#plt.show()\n",
    "print('done')"
   ]
  },
  {
   "cell_type": "markdown",
   "metadata": {},
   "source": [
    "3"
   ]
  },
  {
   "cell_type": "code",
   "execution_count": 3,
   "metadata": {},
   "outputs": [],
   "source": [
    "def load_data(host : str, target : str) :\n",
    "    \n",
    "    try :\n",
    "        dates = np.genfromtxt(f'simulation_results\\{host}.csv',delimiter=',',usecols=[0],skip_header=True,dtype=str) \n",
    "\n",
    "        host_positions = np.genfromtxt(f'simulation_results\\{host}.csv',delimiter=',',usecols=[1,2,3],skip_header=True) \n",
    "        host_velocities = np.genfromtxt(f'simulation_results\\{host}.csv',delimiter=',',usecols=[4,5,6],skip_header=True)\n",
    "\n",
    "        target_positions = np.genfromtxt(f'simulation_results\\{target}.csv',delimiter=',',usecols=[1,2,3],skip_header=True) \n",
    "        target_velocities = np.genfromtxt(f'simulation_results\\{target}.csv',delimiter=',',usecols=[4,5,6],skip_header=True)  \n",
    "    \n",
    "    except : \n",
    "        dates = np.genfromtxt(f'traces\\{host}.csv',delimiter=',',usecols=[0],skip_header=True,dtype=str) \n",
    "\n",
    "        host_positions = np.genfromtxt(f'traces\\{host}.csv',delimiter=',',usecols=[1,2,3],skip_header=True) \n",
    "        host_velocities = np.genfromtxt(f'traces\\{host}.csv',delimiter=',',usecols=[4,5,6],skip_header=True)\n",
    "\n",
    "        target_positions = np.genfromtxt(f'traces\\{target}.csv',delimiter=',',usecols=[1,2,3],skip_header=True) \n",
    "        target_velocities = np.genfromtxt(f'traces\\{target}.csv',delimiter=',',usecols=[4,5,6],skip_header=True)  \n",
    "        \n",
    "    return dates, host_positions, host_velocities, target_positions, target_velocities"
   ]
  },
  {
   "cell_type": "code",
   "execution_count": 4,
   "metadata": {},
   "outputs": [],
   "source": [
    "dates, host_positions, host_velocities, target_positions, target_velocities = load_data('EARTH_TRACE','MARS_TRACE')\n",
    "dates = [datetime.strptime(date, \"%A %B %d %Y %H:%M:%S\").timestamp() for date in dates]\n",
    "dates = np.array(dates)\n",
    "t0 = dates[0]\n",
    "dates = dates - t0\n",
    "\n",
    "elements = dates.shape[0] \n",
    "resolution = 0.0001\n",
    "interval = elements / (elements * resolution)\n",
    "\n",
    "launch_from  = (0) *24*60*60\n",
    "launch_until = (5*365) *24*60*60\n",
    "launch_times = np.extract(dates >= launch_from,dates)\n",
    "launch_times = np.extract(dates <= launch_until,launch_times)\n",
    "\n",
    "mask = np.isin(dates, launch_times)\n",
    "launch_positions = host_positions[mask]\n",
    "launch_velocities = host_velocities[mask]\n",
    "\n",
    "arrive_after  = 100 *24*60*60 \n",
    "arrive_before = (900) *24*60*60\n",
    "\n",
    "lower_bound = min(launch_times) + arrive_after\n",
    "upper_bound = max(launch_times) + arrive_before \n",
    "\n",
    "arrival_times = np.extract(dates >= lower_bound,dates)\n",
    "arrival_times = np.extract(dates <= upper_bound,arrival_times)\n",
    "\n",
    "mask = np.isin(dates, arrival_times)\n",
    "arrival_positions = target_positions[mask]\n",
    "arrival_velocities = target_velocities[mask]\n",
    "\n",
    "launch_times += t0\n",
    "arrival_times += t0"
   ]
  },
  {
   "cell_type": "code",
   "execution_count": 5,
   "metadata": {},
   "outputs": [
    {
     "name": "stdout",
     "output_type": "stream",
     "text": [
      "fuck off retard\n"
     ]
    }
   ],
   "source": [
    "ax = plt.figure().add_subplot(projection='3d')\n",
    "ax.plot(host_positions[:,0],host_positions[:,1],host_positions[:,2],color='steelblue')\n",
    "ax.plot(launch_positions[:,0],launch_positions[:,1],launch_positions[:,2],color='red')\n",
    "\n",
    "ax.plot(target_positions[:,0],target_positions[:,1],target_positions[:,2],color='steelblue')\n",
    "ax.plot(arrival_positions[:,0],arrival_positions[:,1],arrival_positions[:,2],color='red')\n",
    "\n",
    "a = np.argmin(launch_times)\n",
    "b = np.argmax(launch_times)\n",
    "ax.scatter(launch_positions[a][0],launch_positions[a][1],launch_positions[a][2],color='steelblue')\n",
    "ax.scatter(launch_positions[b][0],launch_positions[b][1],launch_positions[b][2],color='red')\n",
    "\n",
    "print('fuck off retard')"
   ]
  },
  {
   "cell_type": "code",
   "execution_count": 6,
   "metadata": {},
   "outputs": [
    {
     "name": "stderr",
     "output_type": "stream",
     "text": [
      "Processing:  81%|████████▏ | 2026524/2493288 [00:15<00:03, 126843.91iter/s]\n"
     ]
    }
   ],
   "source": [
    "final = []\n",
    "\n",
    "step = 100  # Change step size to control skipping rate\n",
    "total_iterations = len(launch_positions[::step]) * len(target_positions[::step])\n",
    "\n",
    "with tqdm(total=total_iterations, desc=\"Processing\", unit=\"iter\") as pbar:\n",
    "    for lpos, lt, lv in zip(launch_positions[::step], launch_times[::step], launch_velocities[::step]):\n",
    "        for tpos, tt, tv in zip(arrival_positions[::step], arrival_times[::step], arrival_velocities[::step]):\n",
    "            \n",
    "            tof = tt - lt\n",
    "            \n",
    "            try:\n",
    "                v_i, _ = izzo(Sun.k, lpos, tpos, tof, 0, True, True, 150, 1e-8)\n",
    "                if np.linalg.norm(v_i - lv)/1000 <= 7.81 : \n",
    "                    final.append([lt, tof, np.linalg.norm(v_i - lv)/1000])\n",
    "                else : \n",
    "                    final.append([lt, tof, np.nan])\n",
    "                    \n",
    "            except:\n",
    "                v_i = lv\n",
    "                final.append([lt, tof, np.nan])\n",
    "\n",
    "            pbar.update(1)  # Update progress bar for each iteration\n",
    "\n",
    "final = np.array(final)"
   ]
  },
  {
   "cell_type": "code",
   "execution_count": 7,
   "metadata": {},
   "outputs": [
    {
     "ename": "ValueError",
     "evalue": "cannot reshape array of size 2026524 into shape (1164,2019447)",
     "output_type": "error",
     "traceback": [
      "\u001b[1;31m---------------------------------------------------------------------------\u001b[0m",
      "\u001b[1;31mValueError\u001b[0m                                Traceback (most recent call last)",
      "Cell \u001b[1;32mIn [7], line 8\u001b[0m\n\u001b[0;32m      5\u001b[0m lt_vals \u001b[38;5;241m=\u001b[39m [datetime\u001b[38;5;241m.\u001b[39mfromtimestamp(t) \u001b[38;5;28;01mfor\u001b[39;00m t \u001b[38;5;129;01min\u001b[39;00m lt_vals]\n\u001b[0;32m      6\u001b[0m \u001b[38;5;66;03m#tt_vals = [datetime.fromtimestamp(t) for t in tt_vals]\u001b[39;00m\n\u001b[1;32m----> 8\u001b[0m v_grid \u001b[38;5;241m=\u001b[39m np\u001b[38;5;241m.\u001b[39marray(final[:, \u001b[38;5;241m2\u001b[39m]\u001b[38;5;241m.\u001b[39mreshape(\u001b[38;5;28mlen\u001b[39m(lt_vals), \u001b[38;5;28mlen\u001b[39m(tt_vals)))\u001b[38;5;241m.\u001b[39mastype(np\u001b[38;5;241m.\u001b[39mfloat64)  \n\u001b[0;32m     10\u001b[0m plt\u001b[38;5;241m.\u001b[39mfigure(figsize\u001b[38;5;241m=\u001b[39m(\u001b[38;5;241m8\u001b[39m,\u001b[38;5;241m6\u001b[39m))\n\u001b[0;32m     11\u001b[0m c \u001b[38;5;241m=\u001b[39m plt\u001b[38;5;241m.\u001b[39mcontourf(lt_vals, tt_vals, np\u001b[38;5;241m.\u001b[39mlog10(v_grid\u001b[38;5;241m.\u001b[39mT),levels\u001b[38;5;241m=\u001b[39m\u001b[38;5;241m15\u001b[39m)  \n",
      "\u001b[1;31mValueError\u001b[0m: cannot reshape array of size 2026524 into shape (1164,2019447)"
     ]
    }
   ],
   "source": [
    "lt_vals = np.unique(final[:, 0])  # Unique launch times\n",
    "tt_vals = np.unique(final[:, 1])  # Unique arrival times\n",
    "\n",
    "\n",
    "lt_vals = [datetime.fromtimestamp(t) for t in lt_vals]\n",
    "#tt_vals = [datetime.fromtimestamp(t) for t in tt_vals]\n",
    "\n",
    "v_grid = np.array(final[:, 2].reshape(len(lt_vals), len(tt_vals))).astype(np.float64)  \n",
    "\n",
    "plt.figure(figsize=(8,6))\n",
    "c = plt.contourf(lt_vals, tt_vals, np.log10(v_grid.T),levels=15)  \n",
    "plt.colorbar(c)  \n",
    "plt.xlabel('Launch Time (lt)')\n",
    "plt.ylabel('Arrival Time (tt)')"
   ]
  },
  {
   "cell_type": "code",
   "execution_count": 14,
   "metadata": {},
   "outputs": [
    {
     "ename": "AttributeError",
     "evalue": "module 'matplotlib.pyplot' has no attribute 'zlim'",
     "output_type": "error",
     "traceback": [
      "\u001b[1;31m---------------------------------------------------------------------------\u001b[0m",
      "\u001b[1;31mAttributeError\u001b[0m                            Traceback (most recent call last)",
      "Cell \u001b[1;32mIn [14], line 6\u001b[0m\n\u001b[0;32m      3\u001b[0m z \u001b[38;5;241m=\u001b[39m np\u001b[38;5;241m.\u001b[39mnan_to_num(final[:,\u001b[38;5;241m2\u001b[39m],\u001b[38;5;241m0.0\u001b[39m)\n\u001b[0;32m      5\u001b[0m plt\u001b[38;5;241m.\u001b[39mtricontourf(x,y,z)\n\u001b[1;32m----> 6\u001b[0m plt\u001b[38;5;241m.\u001b[39mzlim(\u001b[38;5;241m5\u001b[39m)\n\u001b[0;32m      7\u001b[0m plt\u001b[38;5;241m.\u001b[39mshow()\n",
      "\u001b[1;31mAttributeError\u001b[0m: module 'matplotlib.pyplot' has no attribute 'zlim'"
     ]
    }
   ],
   "source": [
    "x = final[:,0]\n",
    "y = final[:,1] * (1/(24*60*60))\n",
    "z = np.nan_to_num(final[:,2],0.0)\n",
    "\n",
    "plt.tricontourf(x,y,z)\n",
    "plt.zlim(5)\n",
    "plt.show()"
   ]
  }
 ],
 "metadata": {
  "kernelspec": {
   "display_name": "Python 3",
   "language": "python",
   "name": "python3"
  },
  "language_info": {
   "codemirror_mode": {
    "name": "ipython",
    "version": 3
   },
   "file_extension": ".py",
   "mimetype": "text/x-python",
   "name": "python",
   "nbconvert_exporter": "python",
   "pygments_lexer": "ipython3",
   "version": "3.10.4"
  }
 },
 "nbformat": 4,
 "nbformat_minor": 2
}
