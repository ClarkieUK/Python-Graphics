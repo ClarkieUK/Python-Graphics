{
 "cells": [
  {
   "cell_type": "code",
   "execution_count": 9,
   "metadata": {},
   "outputs": [],
   "source": [
    "import matplotlib.pyplot as plt\n",
    "%matplotlib tk \n",
    "import numpy as np\n",
    "from poliastro.bodies import Sun\n",
    "from poliastro.core.iod import izzo\n",
    "from datetime import datetime\n",
    "from tqdm import tqdm\n",
    "import numpy as np"
   ]
  },
  {
   "cell_type": "code",
   "execution_count": 10,
   "metadata": {},
   "outputs": [],
   "source": [
    "targets = ['SUN', 'EARTH', 'MARS', 'SATELLITE']"
   ]
  },
  {
   "cell_type": "markdown",
   "metadata": {},
   "source": [
    "fig = plt.figure()\n",
    "ax = fig.add_subplot(projection='3d')\n",
    "\n",
    "ax.set_xlabel('X (AU)')\n",
    "ax.set_ylabel('Y (AU)')\n",
    "ax.set_zlabel('Z (AU)')\n",
    "ax.set_title('Orbit in AU Space')\n",
    "\n",
    "all_px, all_py, all_pz = [], [], []\n",
    "\n",
    "for target in targets:\n",
    "    try :\n",
    "        data = np.genfromtxt(f'simulation_results/{target}.csv', delimiter=',', skip_header=1)\n",
    "    except :\n",
    "        data = np.genfromtxt(f'traces/{target}.csv', delimiter=',', skip_header=1)\n",
    "        \n",
    "    px, py, pz = data[:, 1], data[:, 2], data[:, 3]\n",
    "    \n",
    "    all_px.extend(px)\n",
    "    all_py.extend(py)\n",
    "    all_pz.extend(pz)\n",
    "    \n",
    "    ax.plot(px, py, pz, label=target)  # Add label for better visualization\n",
    "\n",
    "# Compute overall range\n",
    "all_px, all_py, all_pz = np.array(all_px), np.array(all_py), np.array(all_pz)\n",
    "\n",
    "max_range = max(all_px.ptp(), all_py.ptp(), all_pz.ptp()) / 2.0\n",
    "mid_x = (all_px.max() + all_px.min()) / 2.0\n",
    "mid_y = (all_py.max() + all_py.min()) / 2.0\n",
    "mid_z = (all_pz.max() + all_pz.min()) / 2.0\n",
    "\n",
    "# Set the global limits\n",
    "ax.set_xlim(mid_x - max_range, mid_x + max_range)\n",
    "ax.set_ylim(mid_y - max_range, mid_y + max_range)\n",
    "ax.set_zlim(mid_z - max_range, mid_z + max_range)\n",
    "\n",
    "ax.legend()  # Show labels\n",
    "\n",
    "#plt.show()\n",
    "print('done')"
   ]
  },
  {
   "cell_type": "markdown",
   "metadata": {},
   "source": [
    "3"
   ]
  },
  {
   "cell_type": "code",
   "execution_count": 11,
   "metadata": {},
   "outputs": [],
   "source": [
    "def load_data(host : str, target : str) :\n",
    "    \n",
    "    try :\n",
    "        dates = np.genfromtxt(f'simulation_results\\{host}.csv',delimiter=',',usecols=[0],skip_header=True,dtype=str) \n",
    "\n",
    "        host_positions = np.genfromtxt(f'simulation_results\\{host}.csv',delimiter=',',usecols=[1,2,3],skip_header=True) \n",
    "        host_velocities = np.genfromtxt(f'simulation_results\\{host}.csv',delimiter=',',usecols=[4,5,6],skip_header=True)\n",
    "\n",
    "        target_positions = np.genfromtxt(f'simulation_results\\{target}.csv',delimiter=',',usecols=[1,2,3],skip_header=True) \n",
    "        target_velocities = np.genfromtxt(f'simulation_results\\{target}.csv',delimiter=',',usecols=[4,5,6],skip_header=True)  \n",
    "    \n",
    "    except : \n",
    "        dates = np.genfromtxt(f'traces\\{host}.csv',delimiter=',',usecols=[0],skip_header=True,dtype=str) \n",
    "\n",
    "        host_positions = np.genfromtxt(f'traces\\{host}.csv',delimiter=',',usecols=[1,2,3],skip_header=True) \n",
    "        host_velocities = np.genfromtxt(f'traces\\{host}.csv',delimiter=',',usecols=[4,5,6],skip_header=True)\n",
    "\n",
    "        target_positions = np.genfromtxt(f'traces\\{target}.csv',delimiter=',',usecols=[1,2,3],skip_header=True) \n",
    "        target_velocities = np.genfromtxt(f'traces\\{target}.csv',delimiter=',',usecols=[4,5,6],skip_header=True)  \n",
    "        \n",
    "    return dates, host_positions, host_velocities, target_positions, target_velocities"
   ]
  },
  {
   "cell_type": "code",
   "execution_count": null,
   "metadata": {},
   "outputs": [],
   "source": [
    "dates, host_positions, host_velocities, target_positions, target_velocities = load_data('EARTH_TRACE','MARS_TRACE')\n",
    "dates = [datetime.strptime(date, \"%A %B %d %Y %H:%M:%S\").timestamp() for date in dates]\n",
    "dates = np.array(dates)\n",
    "t0 = dates[0]\n",
    "dates = dates - t0\n",
    "\n",
    "elements = dates.shape[0] \n",
    "resolution = 0.0001\n",
    "interval = elements / (elements * resolution)\n",
    "\n",
    "launch_from  = (250) *24*60*60\n",
    "launch_until = (450) *24*60*60\n",
    "launch_times = np.extract(dates >= launch_from,dates)\n",
    "launch_times = np.extract(dates <= launch_until,launch_times)\n",
    "\n",
    "mask = np.isin(dates, launch_times)\n",
    "launch_positions = host_positions[mask]\n",
    "launch_velocities = host_velocities[mask]\n",
    "\n",
    "arrive_after  = 50 *24*60*60 \n",
    "arrive_before = 400 *24*60*60\n",
    "\n",
    "lower_bound = min(launch_times) + arrive_after\n",
    "upper_bound = max(launch_times) + arrive_before \n",
    "\n",
    "arrival_times = np.extract(dates >= lower_bound,dates)\n",
    "arrival_times = np.extract(dates <= upper_bound,arrival_times)\n",
    "\n",
    "mask = np.isin(dates, arrival_times)\n",
    "arrival_positions = target_positions[mask]\n",
    "arrival_velocities = target_velocities[mask]\n",
    "\n",
    "launch_times += t0\n",
    "arrival_times += t0\n",
    "\n",
    "print(datetime.fromtimestamp(launch_times[-1]))"
   ]
  },
  {
   "cell_type": "code",
   "execution_count": null,
   "metadata": {},
   "outputs": [],
   "source": [
    "ax = plt.figure().add_subplot(projection='3d')\n",
    "ax.plot(host_positions[:,0],host_positions[:,1],host_positions[:,2],color='steelblue')\n",
    "ax.plot(launch_positions[:,0],launch_positions[:,1],launch_positions[:,2],color='red')\n",
    "\n",
    "ax.plot(target_positions[:,0],target_positions[:,1],target_positions[:,2],color='steelblue')\n",
    "ax.plot(arrival_positions[:,0],arrival_positions[:,1],arrival_positions[:,2],color='red')\n",
    "\n",
    "a = np.argmin(launch_times)\n",
    "b = np.argmax(launch_times)\n",
    "ax.scatter(launch_positions[a][0],launch_positions[a][1],launch_positions[a][2],color='steelblue')\n",
    "ax.scatter(launch_positions[b][0],launch_positions[b][1],launch_positions[b][2],color='red')\n"
   ]
  },
  {
   "cell_type": "code",
   "execution_count": null,
   "metadata": {},
   "outputs": [],
   "source": [
    "final = []\n",
    "step = 10  # Change step size to control skipping rate\n",
    "total_iterations = len(launch_positions[::step]) * len(target_positions[::step])\n",
    "\n",
    "with tqdm(total=total_iterations, desc=\"Processing\", unit=\"iter\") as pbar:\n",
    "    for lpos, lt, lv in zip(launch_positions[::step], launch_times[::step], launch_velocities[::step]):\n",
    "        for tpos, tt in zip(target_positions[::step], arrival_times[::step]):\n",
    "            \n",
    "            tof = tt - lt\n",
    "            \n",
    "            try:\n",
    "                v_i, _ = izzo(Sun.k, lpos, tpos, tof, 0, True, True, 35, 1e-8)\n",
    "                final.append([lt, tt, np.linalg.norm(v_i - lv)])\n",
    "            except:\n",
    "                v_i = lv\n",
    "                final.append([lt, tt, np.nan])\n",
    "\n",
    "            pbar.update(1)  # Update progress bar for each iteration\n",
    "\n",
    "final = np.array(final)"
   ]
  },
  {
   "cell_type": "code",
   "execution_count": null,
   "metadata": {},
   "outputs": [],
   "source": [
    "print(final.shape)"
   ]
  },
  {
   "cell_type": "code",
   "execution_count": 8,
   "metadata": {},
   "outputs": [],
   "source": [
    "lt_vals = np.unique(final[:, 0])  # Unique launch times\n",
    "tt_vals = np.unique(final[:, 1])  # Unique arrival times\n",
    "\n",
    "\n",
    "lt_vals = [datetime.fromtimestamp(t) for t in lt_vals]\n",
    "tt_vals = [datetime.fromtimestamp(t) for t in tt_vals]\n",
    "\n",
    "v_grid = np.array(final[:, 2].reshape(len(lt_vals), len(tt_vals))).astype(np.float64)  \n",
    "\n",
    "plt.figure(figsize=(8,6))\n",
    "c = plt.contourf(lt_vals, tt_vals, np.log10(v_grid.T),levels=15)  \n",
    "plt.colorbar(c)  \n",
    "plt.xlabel('Launch Time (lt)')\n",
    "plt.ylabel('Arrival Time (tt)')\n",
    "plt.title('Contour Plot of Δv')\n",
    "plt.show()"
   ]
  }
 ],
 "metadata": {
  "kernelspec": {
   "display_name": "Python 3",
   "language": "python",
   "name": "python3"
  },
  "language_info": {
   "codemirror_mode": {
    "name": "ipython",
    "version": 3
   },
   "file_extension": ".py",
   "mimetype": "text/x-python",
   "name": "python",
   "nbconvert_exporter": "python",
   "pygments_lexer": "ipython3",
   "version": "3.10.7"
  }
 },
 "nbformat": 4,
 "nbformat_minor": 2
}
